{
 "cells": [
  {
   "cell_type": "code",
   "execution_count": 24,
   "metadata": {},
   "outputs": [],
   "source": [
    "import json\n",
    "from sentence_transformers import SentenceTransformer, util\n",
    "from summarizer.sbert import SBertSummarizer\n",
    "from transformers import BertTokenizer,AlbertTokenizer,AutoTokenizer, AlbertForQuestionAnswering, AutoModelForQuestionAnswering ,BertForQuestionAnswering\n",
    "\n",
    "from transformers import BertTokenizer\n",
    "import torch\n",
    "import numpy as np\n",
    "from transformers import pipeline\n",
    "from top2vec import Top2Vec"
   ]
  },
  {
   "cell_type": "code",
   "execution_count": 28,
   "metadata": {},
   "outputs": [],
   "source": [
    "data_size = 100\n",
    "search_text_size = 128"
   ]
  },
  {
   "cell_type": "code",
   "execution_count": 29,
   "metadata": {},
   "outputs": [],
   "source": [
    "articles = []\n",
    "file = open('data/val.txt', encoding='utf-8', mode='r')\n",
    "for i in range(data_size):\n",
    "    line = file.readline()\n",
    "    art = json.loads(line)\n",
    "    abstract = \" \".join([l.replace('<S>', '').replace('</S>', '') for l in art['abstract_text']])\n",
    "    passage = \" \".join(art['article_text'])\n",
    "    articles.append([abstract, passage])\n",
    "file.close()"
   ]
  },
  {
   "cell_type": "code",
   "execution_count": 4,
   "metadata": {},
   "outputs": [],
   "source": [
    "model = SBertSummarizer('paraphrase-MiniLM-L6-v2')\n",
    "encoder = SentenceTransformer('all-MiniLM-L6-v2')"
   ]
  },
  {
   "cell_type": "code",
   "execution_count": 20,
   "metadata": {},
   "outputs": [
    {
     "name": "stdout",
     "output_type": "stream",
     "text": [
      "(10, 384)\n"
     ]
    }
   ],
   "source": [
    "def encode(encoder, text, window_size, stride):\n",
    "    words = text.split()\n",
    "\n",
    "    if len(words) <= window_size:\n",
    "        return encoder([text])\n",
    "    \n",
    "    windows = []\n",
    "    for i in range(0, len(words) - stride, stride):\n",
    "        sub_text = \" \".join(words[i:i + window_size])\n",
    "        windows.append(sub_text)\n",
    "\n",
    "    r = encoder(windows)\n",
    "    return encoder(windows).mean(axis=0)\n",
    "\n",
    "\n",
    "# encs = []\n",
    "# for abs, art in articles:\n",
    "#     en = encode(encoder.encode, art, 256, 128)\n",
    "#     encs.append(en)\n",
    "\n",
    "# encs = np.vstack(encs)\n",
    "# print(encs.shape)"
   ]
  },
  {
   "cell_type": "code",
   "execution_count": 5,
   "metadata": {},
   "outputs": [],
   "source": [
    "# print(articles[0][1])\n",
    "# print(\"================================\")\n",
    "abses = []\n",
    "arts = []\n",
    "for abs, art in articles:\n",
    "    if len(abs.split()) > 256:\n",
    "        abs = model(abs, min_length=search_text_size)\n",
    "    if len(art.split()) > 256:\n",
    "        art = model(art, min_length=search_text_size)\n",
    "    abses.append(abs)\n",
    "    arts.append(art)\n",
    "\n",
    "arts_embeddings = encoder.encode(arts)\n",
    "abs_embeddings = encoder.encode(abses)"
   ]
  },
  {
   "cell_type": "code",
   "execution_count": 26,
   "metadata": {},
   "outputs": [
    {
     "data": {
      "text/plain": [
       "'if undiagnosed , asymptomatic vte can lead to chronic venous disease or recurrent vte and long - term debilitating sequelae such as postthrombotic syndrome and chronic thromboembolic pulmonary hypertension . given the growing burden of vte in india and lack of substantial indian data on characteristics of vte patients , use of diagnostics tools , prophylaxis , treatment options , and clinical outcomes in vte , there was a need to systematically collect such data . risk factors for venous thromboembolism based on a review of the available records , 157 patients had a single co - morbidity , 81 had two co - morbidities , 23 had three co - morbidities , and 16 had four or more co - morbidities . ( myocardial infarction , heart failure , chronic obstructive pulmonary disease , ventilator dependency , sepsis , or pneumonia ) [ table 4 ] . a total of 31% ( 143/462 ) patients had dvt in the right limb , 54% ( 249/462 ) in the left limb and 9% ( 41/462 ) in both limbs ( site not known in 29 patients ) . a total of 39% ( 215/549 ) patients were diagnosed with vte during their hospital stay , 54% ( 296/549 ) were admitted to hospital with a diagnosis of vte , and 7% ( 38/549 ) were diagnosed and continued to be managed in the outpatient department [ figure 2 ] . place of detection of venous thromboembolism ( n = 549 ) duration of hospitalization after diagnosis of venous thromboembolism a smaller proportion of patients ( 15% ; 81/549 ) was diagnosed with vte during the postoperative period . heparin ( low molecular weight heparin [ lmwh]/unfractionated heparin [ ufh ] ) alone , a combination of heparin ( lmwh / ufh ) and oral anticoagulant ( warfarin ) , and fondaparinux sodium alone were recommended to 82% ( 420/515 ) , 13% ( 66/515 ) , and 2% ( 12/515 ) patients , respectively as initial anticoagulation . five percent ( 25/515 ) of patients were recommended lmwh alone , and 76% ( 393/515 ) were recommended either warfarin or acenocoumarol alone for long - term anticoagulation . however , a formal site - wise statistical analysis could not be performed to analyse trends in the incidence rates in acute dvt ( pe ) and pe alone as there were zero observations in some instances . a total of 182 patients had evidence of one risk factor , 126 had evidence of two risk factors , 70 had evidence of three risk factors and 31 had four or more risk factors recorded . of those diagnosed beyond 6 weeks diagnosis of venous thromboembolism during the postoperative period ( n = 81 ) the most common ( 73% ) symptom was  swelling of the limb  among patients with vte [ table 6 ] pe was confirmed by pulmonary angiography in 27% of all the patients [ table 7 ] . fewer indian women use oral contraceptives and postmenopausal hormone replacement therapy , which are known to be risk factors for thrombosis . the majority ( 82% ) of the referrals were from medical rather than surgical ( 15% ) specialties as against a referral rate of 93% from surgeons at vellore . majority ( 53% ) of patients in our study had co - morbid cardiovascular disease including diabetes mellitus ; it is possible that these patients visited a cardiologist for their cardiovascular ailment ( s ) and were then referred by the cardiologist to vascular disease specialist ( investigator ) . we notice that acute dvt complicated by pe was less ( 6% ; 7/124 ) frequently diagnosed during the postoperative period as against 18% ( 64/352 ) and 14% ( 10/73 ) of acute dvt alone and pe alone , respectively . this study has the expected limitations of any retrospective review including the availability of complete records for all patients , although a robust review of the data on medical charts was conducted .'"
      ]
     },
     "execution_count": 26,
     "metadata": {},
     "output_type": "execute_result"
    }
   ],
   "source": [
    "# arts[0]"
   ]
  },
  {
   "cell_type": "code",
   "execution_count": 31,
   "metadata": {},
   "outputs": [
    {
     "name": "stderr",
     "output_type": "stream",
     "text": [
      "2023-04-01 00:39:32,977 - top2vec - INFO - Pre-processing documents for training\n",
      "2023-04-01 00:39:35,264 - top2vec - INFO - Downloading all-MiniLM-L6-v2 model\n",
      "2023-04-01 00:39:35,778 - top2vec - INFO - Creating joint document/word embedding\n",
      "2023-04-01 00:39:41,855 - top2vec - INFO - Creating lower dimension embedding of documents\n",
      "2023-04-01 00:39:45,722 - top2vec - INFO - Finding dense areas of documents\n",
      "2023-04-01 00:39:45,730 - top2vec - INFO - Finding topics\n"
     ]
    }
   ],
   "source": [
    "docs = [art for abs, art in articles]\n",
    "topic_model = Top2Vec(docs, embedding_model=\"all-MiniLM-L6-v2\")"
   ]
  },
  {
   "cell_type": "code",
   "execution_count": null,
   "metadata": {},
   "outputs": [],
   "source": []
  },
  {
   "cell_type": "code",
   "execution_count": 6,
   "metadata": {},
   "outputs": [
    {
     "data": {
      "text/plain": [
       "(10, 384)"
      ]
     },
     "execution_count": 6,
     "metadata": {},
     "output_type": "execute_result"
    }
   ],
   "source": [
    "abs_embeddings.shape\n",
    "arts_embeddings.shape"
   ]
  },
  {
   "cell_type": "code",
   "execution_count": 7,
   "metadata": {},
   "outputs": [],
   "source": [
    "question = \"who decides whether stroke status is correct?\"\n",
    "question_embedding = encoder.encode(question, convert_to_tensor=True)\n",
    "hits = util.semantic_search(question_embedding, arts_embeddings, top_k=5)\n",
    "reference_text = articles[hits[0][0]['corpus_id']][1]"
   ]
  },
  {
   "cell_type": "code",
   "execution_count": 8,
   "metadata": {},
   "outputs": [
    {
     "data": {
      "text/plain": [
       "[[{'corpus_id': 1, 'score': 0.5580443739891052},\n",
       "  {'corpus_id': 0, 'score': 0.36922186613082886},\n",
       "  {'corpus_id': 2, 'score': 0.2462112158536911},\n",
       "  {'corpus_id': 4, 'score': 0.2442772388458252},\n",
       "  {'corpus_id': 5, 'score': 0.19890615344047546}]]"
      ]
     },
     "execution_count": 8,
     "metadata": {},
     "output_type": "execute_result"
    }
   ],
   "source": [
    "hits"
   ]
  },
  {
   "cell_type": "code",
   "execution_count": 9,
   "metadata": {},
   "outputs": [
    {
     "data": {
      "text/plain": [
       "' backgroundthe questionnaire for verifying stroke - free status ( qvsfs ) has been validated in western populations as a method for verifying stroke - free status in participants of clinical , epidemiological and genetic studies .   this instrument has not been validated in low - income settings where populations have limited knowledge of stroke symptoms and literacy levels are low.objectiveto simultaneously validate the 8-item qvsfs in 3 languages spoken in west africa ( yoruba , hausa and akan ) for ascertainment of stroke - free status of control subjects in siren.methodsusing a cross - sectional study design , 100 participants each from the 3 linguistic groups will be consecutively recruited from neurology and general medicine clinics of 5 tertiary referral hospitals in nigeria and ghana .   ascertainment of stroke status will be determined by neurologists using structured neurological examination , review of case records and neuro - imaging ( gold standard ) .   the relative performance of qvsfs without and with pictures of stroke symptoms ( pictograms ) will be assessed using sensitivity , specificity , positive predictive value ( ppv ) and negative predictive value ( npv).conclusionthe proposed study will provide valuable data on the performance of the qvsfs in resource - limited settings . '"
      ]
     },
     "execution_count": 9,
     "metadata": {},
     "output_type": "execute_result"
    }
   ],
   "source": [
    "articles[1][0]"
   ]
  },
  {
   "cell_type": "code",
   "execution_count": 10,
   "metadata": {},
   "outputs": [],
   "source": [
    "question_answerer = pipeline(\"question-answering\", model='distilbert-base-cased-distilled-squad')"
   ]
  },
  {
   "cell_type": "code",
   "execution_count": 11,
   "metadata": {},
   "outputs": [
    {
     "name": "stdout",
     "output_type": "stream",
     "text": [
      "{'corpus_id': 26, 'score': 0.6570421457290649}\n",
      "{'corpus_id': 0, 'score': 0.6569384932518005}\n",
      "{'corpus_id': 1, 'score': 0.6192595958709717}\n",
      "{'corpus_id': 17, 'score': 0.6186014413833618}\n",
      "{'corpus_id': 8, 'score': 0.6182590126991272}\n"
     ]
    }
   ],
   "source": [
    "window_size = 256\n",
    "stride = 128\n",
    "reference_text = articles[hits[0][0]['corpus_id']][1]\n",
    "sub = []\n",
    "words = reference_text.split()\n",
    "for i in range(0, len(words) - stride, stride):\n",
    "    sub_text = \" \".join(words[i:i+window_size])\n",
    "    sub.append(sub_text)\n",
    "\n",
    "sub_embs = encoder.encode(sub)\n",
    "sub_hits = util.semantic_search(question_embedding, sub_embs, top_k=5)\n",
    "for h in sub_hits[0]:\n",
    "    print(h)\n"
   ]
  },
  {
   "cell_type": "code",
   "execution_count": 12,
   "metadata": {},
   "outputs": [
    {
     "name": "stdout",
     "output_type": "stream",
     "text": [
      "{'score': 0.9201184511184692, 'start': 484, 'end': 496, 'answer': 'neurologists'}\n"
     ]
    }
   ],
   "source": [
    "sub_reference_text = sub[sub_hits[0][0]['corpus_id']]\n",
    "result = question_answerer(question=question, context=sub_reference_text)\n",
    "print(result)"
   ]
  },
  {
   "cell_type": "code",
   "execution_count": 33,
   "metadata": {},
   "outputs": [
    {
     "name": "stdout",
     "output_type": "stream",
     "text": [
      "there is an epidemic of stroke in low and middle - income countries due to rapidly increasing prevalence of vascular risk factors such as hypertension , diabetes mellitus , dyslipidaemia . the need has thus arisen to conduct studies aimed at epidemiologic , genetic and phenotypic characterisation of stroke in sub - saharan africa to provide evidence - based information to confront this menace . to this end , it is important that controls selected for comparison with cases are recruited with a high degree of certainty that they indeed do not have stroke or tia to allow for valid comparisons to be made . in view of this simple , quick and accurate assessment of symptoms of stroke is needed for epidemiologic studies particularly those of the case  control type . in 2000 , meschia et al . developed the questionnaire for verifying stroke - free status ( qvsfs ) as a method for verifying the stroke - free phenotype in participants of clinical , epidemiological and genetic studies . having one or more affirmative answers to any of the questionnaire was associated with finding stroke , tia , or either stroke or tia on medical record review . jones et al . showed by directly interviewing participants and review of medical records that the qvsfs had a nppv and ppv of 0.96 and 0.71 respectively making the 8-item qvsfs a sensitive and valid tool , and a structured telephone interview format of questionnaire administration still had an excellent sensitivity of 1.0 , specificity of 0.86 , positive predictive value of 0.36 and negative predictive value of 1.0 among participants aged 60 years and above . the qvsfs is also reliable with intra - rater and inter - rater agreement of stroke - free status classification of 0.90 and 0.94 respectively . the qvsfs is easy to administer as a self - report pencil - and - paper questionnaire or by an interview in person or by telephone and has been translated into spanish by castillo et al . for use among hispanic populations . two questions in the instrument assess previous diagnosis of either stroke / tia together with six questions about stroke symptoms . thus not only is the 8-item qvsfs a useful tool in identifying stroke - free individuals but it could be used to screen for undiagnosed stroke . the sensitivity and specificity of having any of the six symptom questions for stroke detection was 0.82 and 0.62 respectively . indeed the qvsfs has been successfully used in the recruitment of controls involved genetic studies into ischaemic stroke , to screen for cerebrovascular end points in the carotid revascularisation endarterectomy versus stent trial ( crest )   and in the reasons for geographic and racial differences in stroke ( regards ) study . this instrument could have tremendous potential in developing countries where stroke prevalence is increasing , awareness of stroke symptoms low and the confirmation of stroke diagnosis either missed by health workers or constrained by the pervasive lack of neuro - imaging modalities . in these low literacy settings the lack of knowledge of stroke symptoms might impact negatively on the performance of stroke symptom questionnaires . furthermore there is a lack of specific medical terminology for symptoms of stroke in local dialects across sub - saharan africa . the performance of the questionnaire could be enhanced further by the introduction of culturally acceptable pictures of stroke symptoms . one of the key comments regarding the 8-item qvsfs questionnaire is that the benchmark for verification of strokes has relied on review of medical records of patients but this approach may be problematic in settings where medical records are kept under less than optimal circumstances and where patients may not always seek health services for ailments from medical facilities but from herbalists , chemical shops and so forth . an approach to overcome this limitation would be to examine participants by neurologists or to use a cranial ct scan for verification in a subset of participants . this study seeks to validate the 8-item qvsfs at 5 centers in nigeria and ghana which are involved in the on - going nih supported stroke investigative research and educational networks ( siren ) study . participants will be recruited from five tertiary referral medical centers in west africa namely the komfo anokye teaching hospital ( kath ) in kumasi , ghana ; the university college hospital ( uch ) , ibadan , nigeria ; federal medical centre ( fmc ) , abeokuta , nigeria ; ahmadu bello university hospital ( abuh ) , zaria , nigeria and aminu kano teaching hospital ( akth ) , kano , nigeria ( fig . kumasi where kath is situated is the principal city of the akan tribe in central ghana and serves a population of 4 million . uch and fmc situated in ibadan and abeokuta respectively are located in southern nigeria and serve a combined population of 4 million nigerians of predominantly yoruba ethnicity . abuh and akth in zaria and kano provide health care services to 15 million nigerians of mainly hausa and fulani descent . ethical approval for the study will be sought from the ethics committees of the 5 participating sites . the original questionnaire developed by meschia et al .   will be translated into the local languages ( yoruba  southern nigeria , hausa  northern nigeria , akan  middle & lower belts of ghana ) , pre - tested and back - translated into english language to establish semantic equivalence . at each of the study sites , a panel comprising of a neurologist , three to five doctors and nurses , and public health practitioners will translate the questionnaire into the local dialect by consensus . the translated versions of the questionnaires in 3 languages are shown in supplementary information section ( s1 ) . another version of the questionnaire will be developed where question items 3 to 8 will have line pictures of the neurological symptoms being elicited by the interviewer ( fig . participants attending general medicine and neurology out - patient clinic appointments will be approached and enrolled into the study after obtaining informed consent . baseline demographic details will be obtained and the questionnaire administered by a medicine resident in the local dialect and the answers recorded as  yes  ,  no  , or  do n't know  to each question item . the version of the questionnaire without pictures will be administered first followed by the version with pictograms by the same interviewer . furthermore , participant awareness of known vascular risk factors such as hypertension , diabetes mellitus , dyslipidaemia , cigarette smoking , excessive alcohol intake , physical inactivity , known heart disorders , family history of stroke will be assessed using 8 questions assessing knowledge of the presence of these specific risk factors . after the interview participants will undergo a 3-staged evaluation by a neurologist . the first stage will involve a review of the medical records of patients to determine if a previous diagnosis of stroke has ever been made , the duration of stroke diagnosis , whether neuro - imaging information on stroke type is available . the second stage entails an examination for presence of hemiparesis , hemi - anesthesia , mono - ocular / binocular visual loss , hemianopsia , receptive or expressive aphasia , and cerebellar deficits . the third stage will comprise of an evaluation of a cranial ct scan in a subset of participants . this neuro - imaging validation will be performed within 48 h among a subset of subjects ( at least 4 stroke and 4 stroke - free ) per site after this thorough evaluation the neurologist makes a diagnosis which is our gold standard . assuming that the standard test has an accuracy of 75% as measured by the area under the roc curve ( auc ) , a sample of 35 cases and 35 controls achieve 82% power to detect an extra accuracy by the proposed test of 15% ( auc = 90% in the proposed test ) using a two - sided test at a significance level of 0.05 . the sample size required increases to 80 per group in order to detect a difference of 10% ( auc = 85% in the proposed test ) under the same conditions . thus , the sample size of 100 per linguistic category ( akan , yoruba , hausa ) will be sufficient detect an effect size as small as 10% allowing up to 10% false positive rates and control to case ratio of the standard deviation of the responses to be 0.5 as suggested by obuchowski and mcclish . given that the 8 items qvsfs is going to be translated into three ( yoruba , hausa , chi ) different languages , we will evaluate the reliability of the translation before it is implemented to predict stroke status using a sample size of 50 consistency and validity of the translation for each language using exploratory factor analysis and cronbach 's alpha . patients who score 0/8 will be deemed as stroke free whereas those with any positive score will be deemed as not stroke free according to the 8-item qvsfs . sensitivity analysis will be performed where  do n't know  will be assumed to be = 1 . baseline demographic characteristics between patients who are symptom free for stroke and those with stroke will be compared using either chi - squared test ( categorical variables ) or student 's t - test or mann  whitney 's u - test for means / medians respectively ( continuous variables ) . the sensitivity , specificity , positive predictive value , negative predictive value , positive and negative likelihood ratios as well as the accuracy and reliability of the 8-item qvsfs will be assessed in comparison with the benchmark stroke determination by history and examination by a neurologist . furthermore , the performance of the questionnaire will be compared with neuro - imaging results in a small randomly selected subset . the sensitivity and specificity of the 6 stroke symptom questions will be determined for stroke diagnosis among patients with stroke . the performance of the questionnaire will also be compared with the modified version of the questionnaire with images illustrating the neurological deficits being elicited by items 3 to 6 . we will use factor analysis approach to assess and confirm the structure relationship between each item and the qvsfs score overall . kappa statistics will be employed to compare inter - rater and intra - rater performance of the tool administered by medicine residents , at each site and also between study sites . participants will be recruited from five tertiary referral medical centers in west africa namely the komfo anokye teaching hospital ( kath ) in kumasi , ghana ; the university college hospital ( uch ) , ibadan , nigeria ; federal medical centre ( fmc ) , abeokuta , nigeria ; ahmadu bello university hospital ( abuh ) , zaria , nigeria and aminu kano teaching hospital ( akth ) , kano , nigeria ( fig . kumasi where kath is situated is the principal city of the akan tribe in central ghana and serves a population of 4 million . uch and fmc situated in ibadan and abeokuta respectively are located in southern nigeria and serve a combined population of 4 million nigerians of predominantly yoruba ethnicity . abuh and akth in zaria and kano provide health care services to 15 million nigerians of mainly hausa and fulani descent . ethical approval for the study will be sought from the ethics committees of the 5 participating sites . the original questionnaire developed by meschia et al .   will be translated into the local languages ( yoruba  southern nigeria , hausa  northern nigeria , akan  middle & lower belts of ghana ) , pre - tested and back - translated into english language to establish semantic equivalence . at each of the study sites , a panel comprising of a neurologist , three to five doctors and nurses , and public health practitioners will translate the questionnaire into the local dialect by consensus . the translated versions of the questionnaires in 3 languages are shown in supplementary information section ( s1 ) . another version of the questionnaire will be developed where question items 3 to 8 will have line pictures of the neurological symptoms being elicited by the interviewer ( fig . participants attending general medicine and neurology out - patient clinic appointments will be approached and enrolled into the study after obtaining informed consent . baseline demographic details will be obtained and the questionnaire administered by a medicine resident in the local dialect and the answers recorded as  yes  ,  no  , or  do n't know  to each question item . the version of the questionnaire without pictures will be administered first followed by the version with pictograms by the same interviewer . furthermore , participant awareness of known vascular risk factors such as hypertension , diabetes mellitus , dyslipidaemia , cigarette smoking , excessive alcohol intake , physical inactivity , known heart disorders , family history of stroke will be assessed using 8 questions assessing knowledge of the presence of these specific risk factors . the first stage will involve a review of the medical records of patients to determine if a previous diagnosis of stroke has ever been made , the duration of stroke diagnosis , whether neuro - imaging information on stroke type is available . the second stage entails an examination for presence of hemiparesis , hemi - anesthesia , mono - ocular / binocular visual loss , hemianopsia , receptive or expressive aphasia , and cerebellar deficits . the third stage will comprise of an evaluation of a cranial ct scan in a subset of participants . this neuro - imaging validation will be performed within 48 h among a subset of subjects ( at least 4 stroke and 4 stroke - free ) per site . assuming that the standard test has an accuracy of 75% as measured by the area under the roc curve ( auc ) , a sample of 35 cases and 35 controls achieve 82% power to detect an extra accuracy by the proposed test of 15% ( auc = 90% in the proposed test ) using a two - sided test at a significance level of 0.05 . the sample size required increases to 80 per group in order to detect a difference of 10% ( auc = 85% in the proposed test ) under the same conditions . thus , the sample size of 100 per linguistic category ( akan , yoruba , hausa ) will be sufficient detect an effect size as small as 10% allowing up to 10% false positive rates and control to case ratio of the standard deviation of the responses to be 0.5 as suggested by obuchowski and mcclish . given that the 8 items qvsfs is going to be translated into three ( yoruba , hausa , chi ) different languages , we will evaluate the reliability of the translation before it is implemented to predict stroke status using a sample size of 50 consistency and validity of the translation for each language using exploratory factor analysis and cronbach 's alpha . yes = 1 , no = 0 , do n't know = 0 . patients who score 0/8 will be deemed as stroke free whereas those with any positive score will be deemed as not stroke free according to the 8-item qvsfs . sensitivity analysis will be performed where  do n't know  will be assumed to be = 1 . baseline demographic characteristics between patients who are symptom free for stroke and those with stroke will be compared using either chi - squared test ( categorical variables ) or student 's t - test or mann  whitney 's u - test for means / medians respectively ( continuous variables ) . the sensitivity , specificity , positive predictive value , negative predictive value , positive and negative likelihood ratios as well as the accuracy and reliability of the 8-item qvsfs will be assessed in comparison with the benchmark stroke determination by history and examination by a neurologist . furthermore , the performance of the questionnaire will be compared with neuro - imaging results in a small randomly selected subset . the sensitivity and specificity of the 6 stroke symptom questions will be determined for stroke diagnosis among patients with stroke . the performance of the questionnaire will also be compared with the modified version of the questionnaire with images illustrating the neurological deficits being elicited by items 3 to 6 . we will use factor analysis approach to assess and confirm the structure relationship between each item and the qvsfs score overall . kappa statistics will be employed to compare inter - rater and intra - rater performance of the tool administered by medicine residents , at each site and also between study sites . yes = 1 , no = 0 , do n't know = 0 . patients who score 0/8 will be deemed as stroke free whereas those with any positive score will be deemed as not stroke free according to the 8-item qvsfs . sensitivity analysis will be performed where  do n't know  will be assumed to be = 1 . baseline demographic characteristics between patients who are symptom free for stroke and those with stroke will be compared using either chi - squared test ( categorical variables ) or student 's t - test or mann  whitney 's u - test for means / medians respectively ( continuous variables ) . the sensitivity , specificity , positive predictive value , negative predictive value , positive and negative likelihood ratios as well as the accuracy and reliability of the 8-item qvsfs will be assessed in comparison with the benchmark stroke determination by history and examination by a neurologist . furthermore , the performance of the questionnaire will be compared with neuro - imaging results in a small randomly selected subset . the sensitivity and specificity of the 6 stroke symptom questions will be determined for stroke diagnosis among patients with stroke . the performance of the questionnaire will also be compared with the modified version of the questionnaire with images illustrating the neurological deficits being elicited by items 3 to 6 . we will use factor analysis approach to assess and confirm the structure relationship between each item and the qvsfs score overall . kappa statistics will be employed to compare inter - rater and intra - rater performance of the tool administered by medicine residents , at each site and also between study sites . the questionnaire for verifying stroke - free status ( qvsfs ) , developed and validated primarily in english - speaking western world populations , is a method for verifying stroke - free status in participants of clinical , epidemiological and genetic studies . however , the performance of this tool in settings where levels of education and awareness of stroke symptoms are low such as sub - saharan africa has not been conducted . the tool has tremendous potential for widespread use in regions such as ours where stroke incidence , prevalence and mortality are escalating and questions on the epidemiology and genetic underpinnings of the stroke epidemic remain unresolved . we propose to validate qvsfs for ascertainment of stroke - free status of control subjects enrolled in an ongoing stroke epidemiological study in west africa funded by the national institute of health for h3africa . the novel aspects of our validation study are : firstly , to carry out this validation study simultaneously at five tertiary hospitals across nigeria and ghana involving participants speaking three different languages ( yoruba , hausa and akan ) . the qvsfs will be translated into these languages and administered to participants enrolled from neurology and general clinics in these hospitals . secondly , given the low levels of education , the lack of awareness of stroke symptoms , and general paucity of semantically equivalent medical terminology in the local dialects for stroke symptoms in our settings , we will evaluate the performance of the tool with and without pictograms . finally , ascertainment of stroke status will be conducted by neurologists across the 5 sites using a combination of structured medical history , neurological examination , review of medical records and neuro - imaging ( gold standard ) compared with previously published studies which relied on medical records review and neurological examination . the 8-item qvsfs is a simple , accurate and cheap tool which could have widespread use for ascertaining stroke status in clinical , epidemiological and genetic studies in settings where facilities for stroke confirmation are lacking .\n"
     ]
    }
   ],
   "source": [
    "found_doc = topic_model.query_documents(question, 1)\n",
    "print(found_doc[0][0])"
   ]
  },
  {
   "cell_type": "code",
   "execution_count": 34,
   "metadata": {},
   "outputs": [
    {
     "name": "stderr",
     "output_type": "stream",
     "text": [
      "c:\\Users\\amany\\miniconda3\\lib\\site-packages\\transformers\\tokenization_utils_base.py:705: VisibleDeprecationWarning: Creating an ndarray from ragged nested sequences (which is a list-or-tuple of lists-or-tuples-or ndarrays with different lengths or shapes) is deprecated. If you meant to do this, you must specify 'dtype=object' when creating the ndarray.\n",
      "  tensor = as_tensor(value)\n",
      "c:\\Users\\amany\\miniconda3\\lib\\site-packages\\transformers\\pipelines\\question_answering.py:299: VisibleDeprecationWarning: Creating an ndarray from ragged nested sequences (which is a list-or-tuple of lists-or-tuples-or ndarrays with different lengths or shapes) is deprecated. If you meant to do this, you must specify 'dtype=object' when creating the ndarray.\n",
      "  p_mask = np.asarray(\n"
     ]
    },
    {
     "name": "stdout",
     "output_type": "stream",
     "text": [
      "{'score': 0.9833484888076782, 'start': 19799, 'end': 19811, 'answer': 'neurologists'}\n"
     ]
    }
   ],
   "source": [
    "result = question_answerer(question=question, context=found_doc[0][0])\n",
    "print(result)"
   ]
  },
  {
   "cell_type": "code",
   "execution_count": 36,
   "metadata": {},
   "outputs": [
    {
     "data": {
      "text/plain": [
       "0.6279185"
      ]
     },
     "execution_count": 36,
     "metadata": {},
     "output_type": "execute_result"
    }
   ],
   "source": [
    "found_doc[1][0]"
   ]
  },
  {
   "cell_type": "code",
   "execution_count": null,
   "metadata": {},
   "outputs": [],
   "source": []
  }
 ],
 "metadata": {
  "interpreter": {
   "hash": "77dcf7500f95a42c2a59ab9ea18ecdb0b830bfd5eea329f213272792ab261ba5"
  },
  "kernelspec": {
   "display_name": "Python 3.9.5 64-bit ('base': conda)",
   "language": "python",
   "name": "python3"
  },
  "language_info": {
   "codemirror_mode": {
    "name": "ipython",
    "version": 3
   },
   "file_extension": ".py",
   "mimetype": "text/x-python",
   "name": "python",
   "nbconvert_exporter": "python",
   "pygments_lexer": "ipython3",
   "version": "3.9.5"
  },
  "orig_nbformat": 4
 },
 "nbformat": 4,
 "nbformat_minor": 2
}
